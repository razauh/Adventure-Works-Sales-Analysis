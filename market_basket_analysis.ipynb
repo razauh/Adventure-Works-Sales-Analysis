{
 "cells": [
  {
   "cell_type": "code",
   "execution_count": 24,
   "id": "d54aa174",
   "metadata": {},
   "outputs": [
    {
     "data": {
      "text/html": [
       "<div>\n",
       "<style scoped>\n",
       "    .dataframe tbody tr th:only-of-type {\n",
       "        vertical-align: middle;\n",
       "    }\n",
       "\n",
       "    .dataframe tbody tr th {\n",
       "        vertical-align: top;\n",
       "    }\n",
       "\n",
       "    .dataframe thead th {\n",
       "        text-align: right;\n",
       "    }\n",
       "</style>\n",
       "<table border=\"1\" class=\"dataframe\">\n",
       "  <thead>\n",
       "    <tr style=\"text-align: right;\">\n",
       "      <th></th>\n",
       "      <th>SalesOrderID</th>\n",
       "      <th>OrderQty</th>\n",
       "      <th>ProductID</th>\n",
       "      <th>Product</th>\n",
       "      <th>TerritoryID</th>\n",
       "      <th>Territory</th>\n",
       "    </tr>\n",
       "  </thead>\n",
       "  <tbody>\n",
       "    <tr>\n",
       "      <th>0</th>\n",
       "      <td>43659</td>\n",
       "      <td>1</td>\n",
       "      <td>776</td>\n",
       "      <td>Mountain-100 Black, 42</td>\n",
       "      <td>5</td>\n",
       "      <td>Southeast</td>\n",
       "    </tr>\n",
       "    <tr>\n",
       "      <th>1</th>\n",
       "      <td>43659</td>\n",
       "      <td>3</td>\n",
       "      <td>777</td>\n",
       "      <td>Mountain-100 Black, 44</td>\n",
       "      <td>5</td>\n",
       "      <td>Southeast</td>\n",
       "    </tr>\n",
       "    <tr>\n",
       "      <th>2</th>\n",
       "      <td>43659</td>\n",
       "      <td>1</td>\n",
       "      <td>778</td>\n",
       "      <td>Mountain-100 Black, 48</td>\n",
       "      <td>5</td>\n",
       "      <td>Southeast</td>\n",
       "    </tr>\n",
       "    <tr>\n",
       "      <th>3</th>\n",
       "      <td>43659</td>\n",
       "      <td>1</td>\n",
       "      <td>771</td>\n",
       "      <td>Mountain-100 Silver, 38</td>\n",
       "      <td>5</td>\n",
       "      <td>Southeast</td>\n",
       "    </tr>\n",
       "    <tr>\n",
       "      <th>4</th>\n",
       "      <td>43659</td>\n",
       "      <td>1</td>\n",
       "      <td>772</td>\n",
       "      <td>Mountain-100 Silver, 42</td>\n",
       "      <td>5</td>\n",
       "      <td>Southeast</td>\n",
       "    </tr>\n",
       "  </tbody>\n",
       "</table>\n",
       "</div>"
      ],
      "text/plain": [
       "   SalesOrderID  OrderQty  ProductID                  Product  TerritoryID  \\\n",
       "0         43659         1        776   Mountain-100 Black, 42            5   \n",
       "1         43659         3        777   Mountain-100 Black, 44            5   \n",
       "2         43659         1        778   Mountain-100 Black, 48            5   \n",
       "3         43659         1        771  Mountain-100 Silver, 38            5   \n",
       "4         43659         1        772  Mountain-100 Silver, 42            5   \n",
       "\n",
       "   Territory  \n",
       "0  Southeast  \n",
       "1  Southeast  \n",
       "2  Southeast  \n",
       "3  Southeast  \n",
       "4  Southeast  "
      ]
     },
     "execution_count": 24,
     "metadata": {},
     "output_type": "execute_result"
    }
   ],
   "source": [
    "#https://pbpython.com/market-basket-analysis.html\n",
    "\n",
    "import pandas as pd\n",
    "from mlxtend.frequent_patterns import apriori\n",
    "from mlxtend.frequent_patterns import association_rules\n",
    "\n",
    "df = pd.read_csv(\"adventureworks.csv\")\n",
    "df.head()"
   ]
  },
  {
   "cell_type": "code",
   "execution_count": 4,
   "id": "76c18c54",
   "metadata": {},
   "outputs": [
    {
     "data": {
      "text/plain": [
       "Index(['SalesOrderID', 'OrderQty', 'ProductID', 'Product', 'TerritoryID',\n",
       "       'Territory'],\n",
       "      dtype='object')"
      ]
     },
     "execution_count": 4,
     "metadata": {},
     "output_type": "execute_result"
    }
   ],
   "source": [
    "df.columns"
   ]
  },
  {
   "cell_type": "code",
   "execution_count": 6,
   "id": "4ceac8be",
   "metadata": {},
   "outputs": [
    {
     "data": {
      "text/plain": [
       "0"
      ]
     },
     "execution_count": 6,
     "metadata": {},
     "output_type": "execute_result"
    }
   ],
   "source": [
    "sum(df['SalesOrderID'].isna())"
   ]
  },
  {
   "cell_type": "code",
   "execution_count": 17,
   "id": "b0d15ff6",
   "metadata": {},
   "outputs": [
    {
     "data": {
      "text/plain": [
       "USA               60153\n",
       "Canada            19064\n",
       "Australia         15058\n",
       "United Kingdom    10426\n",
       "France             9088\n",
       "Germany            7528\n",
       "Name: Territory, dtype: int64"
      ]
     },
     "execution_count": 17,
     "metadata": {},
     "output_type": "execute_result"
    }
   ],
   "source": [
    "df['SalesOrderID'] = df['SalesOrderID'].astype(str)\n",
    "df['Territory'] = df['Territory'].replace(['Southwest', 'Northwest', 'Southeast', 'Northeast', 'Central'], 'USA')\n",
    "df['Territory'].value_counts()"
   ]
  },
  {
   "cell_type": "code",
   "execution_count": 21,
   "id": "27cc3dca",
   "metadata": {},
   "outputs": [],
   "source": [
    "USA_basket = (df[df['Territory'] ==\"USA\"]\n",
    "          .groupby(['SalesOrderID', 'Product'])['OrderQty']\n",
    "          .sum().unstack().reset_index().fillna(0)\n",
    "          .set_index('SalesOrderID'))\n",
    "\n",
    "\n",
    "CA_basket = (df[df['Territory'] ==\"Canada\"]\n",
    "          .groupby(['SalesOrderID', 'Product'])['OrderQty']\n",
    "          .sum().unstack().reset_index().fillna(0)\n",
    "          .set_index('SalesOrderID'))\n",
    "\n",
    "\n",
    "AUS_basket = (df[df['Territory'] ==\"Australia\"]\n",
    "          .groupby(['SalesOrderID', 'Product'])['OrderQty']\n",
    "          .sum().unstack().reset_index().fillna(0)\n",
    "          .set_index('SalesOrderID'))\n",
    "\n",
    "UK_basket = (df[df['Territory'] ==\"United Kingdom\"]\n",
    "          .groupby(['SalesOrderID', 'Product'])['OrderQty']\n",
    "          .sum().unstack().reset_index().fillna(0)\n",
    "          .set_index('SalesOrderID'))\n",
    "\n",
    "FR_basket = (df[df['Territory'] ==\"France\"]\n",
    "          .groupby(['SalesOrderID', 'Product'])['OrderQty']\n",
    "          .sum().unstack().reset_index().fillna(0)\n",
    "          .set_index('SalesOrderID'))\n",
    "\n",
    "GR_basket = (df[df['Territory'] ==\"Germany\"]\n",
    "          .groupby(['SalesOrderID', 'Product'])['OrderQty']\n",
    "          .sum().unstack().reset_index().fillna(0)\n",
    "          .set_index('SalesOrderID'))\n"
   ]
  },
  {
   "cell_type": "code",
   "execution_count": 23,
   "id": "e65b957a",
   "metadata": {},
   "outputs": [],
   "source": [
    "def encode_units(x):\n",
    "    if x <= 0:\n",
    "        return 0\n",
    "    if x >= 1:\n",
    "        return 1\n",
    "    \n",
    "USA_basket_sets = USA_basket.applymap(encode_units)\n",
    "CA_basket_sets = CA_basket.applymap(encode_units)\n",
    "AUS_basket_sets = AUS_basket.applymap(encode_units)\n",
    "UK_basket_sets = UK_basket.applymap(encode_units)\n",
    "FR_basket_sets = FR_basket.applymap(encode_units)\n",
    "GR_basket_sets = GR_basket.applymap(encode_units)\n",
    "\n"
   ]
  },
  {
   "cell_type": "code",
   "execution_count": 32,
   "id": "bf2dcc9a",
   "metadata": {},
   "outputs": [],
   "source": [
    "USA_frq = apriori(USA_basket_sets, min_support=0.05, use_colnames=True)\n",
    "CA_frq = apriori(CA_basket_sets, min_support=0.05, use_colnames=True)\n",
    "AUS_frq = apriori(AUS_basket_sets, min_support=0.05, use_colnames=True)\n",
    "UK_freq = apriori(UK_basket_sets, min_support=0.05, use_colnames=True)\n",
    "FR_freq = apriori(FR_basket_sets, min_support=0.05, use_colnames=True)\n",
    "GR_freq = apriori(GR_basket_sets, min_support=0.05, use_colnames=True)"
   ]
  },
  {
   "cell_type": "code",
   "execution_count": 33,
   "id": "934446d3",
   "metadata": {},
   "outputs": [],
   "source": [
    "USA_rules = association_rules(USA_frq, metric=\"lift\", min_threshold=1)\n",
    "CA_rules = association_rules(CA_frq, metric=\"lift\", min_threshold=1)\n",
    "AUS_rules = association_rules(AUS_frq, metric=\"lift\", min_threshold=1)\n",
    "UK_rules = association_rules(UK_freq, metric=\"lift\", min_threshold=1)\n",
    "FR_rules = association_rules(FR_freq, metric=\"lift\", min_threshold=1)\n",
    "GR_rules = association_rules(GR_freq, metric=\"lift\", min_threshold=1)"
   ]
  },
  {
   "cell_type": "code",
   "execution_count": 38,
   "id": "fadee1be",
   "metadata": {},
   "outputs": [
    {
     "data": {
      "text/html": [
       "<div>\n",
       "<style scoped>\n",
       "    .dataframe tbody tr th:only-of-type {\n",
       "        vertical-align: middle;\n",
       "    }\n",
       "\n",
       "    .dataframe tbody tr th {\n",
       "        vertical-align: top;\n",
       "    }\n",
       "\n",
       "    .dataframe thead th {\n",
       "        text-align: right;\n",
       "    }\n",
       "</style>\n",
       "<table border=\"1\" class=\"dataframe\">\n",
       "  <thead>\n",
       "    <tr style=\"text-align: right;\">\n",
       "      <th></th>\n",
       "      <th>antecedents</th>\n",
       "      <th>consequents</th>\n",
       "      <th>antecedent support</th>\n",
       "      <th>consequent support</th>\n",
       "      <th>support</th>\n",
       "      <th>confidence</th>\n",
       "      <th>lift</th>\n",
       "      <th>leverage</th>\n",
       "      <th>conviction</th>\n",
       "    </tr>\n",
       "  </thead>\n",
       "  <tbody>\n",
       "    <tr>\n",
       "      <th>0</th>\n",
       "      <td>(Water Bottle - 30 oz.)</td>\n",
       "      <td>(Mountain Bottle Cage)</td>\n",
       "      <td>0.163172</td>\n",
       "      <td>0.071292</td>\n",
       "      <td>0.056043</td>\n",
       "      <td>0.343458</td>\n",
       "      <td>4.817595</td>\n",
       "      <td>0.044410</td>\n",
       "      <td>1.414544</td>\n",
       "    </tr>\n",
       "    <tr>\n",
       "      <th>1</th>\n",
       "      <td>(Mountain Bottle Cage)</td>\n",
       "      <td>(Water Bottle - 30 oz.)</td>\n",
       "      <td>0.071292</td>\n",
       "      <td>0.163172</td>\n",
       "      <td>0.056043</td>\n",
       "      <td>0.786096</td>\n",
       "      <td>4.817595</td>\n",
       "      <td>0.044410</td>\n",
       "      <td>3.912171</td>\n",
       "    </tr>\n",
       "    <tr>\n",
       "      <th>2</th>\n",
       "      <td>(Road Bottle Cage)</td>\n",
       "      <td>(Water Bottle - 30 oz.)</td>\n",
       "      <td>0.067099</td>\n",
       "      <td>0.163172</td>\n",
       "      <td>0.060618</td>\n",
       "      <td>0.903409</td>\n",
       "      <td>5.536547</td>\n",
       "      <td>0.049669</td>\n",
       "      <td>8.663632</td>\n",
       "    </tr>\n",
       "    <tr>\n",
       "      <th>3</th>\n",
       "      <td>(Water Bottle - 30 oz.)</td>\n",
       "      <td>(Road Bottle Cage)</td>\n",
       "      <td>0.163172</td>\n",
       "      <td>0.067099</td>\n",
       "      <td>0.060618</td>\n",
       "      <td>0.371495</td>\n",
       "      <td>5.536547</td>\n",
       "      <td>0.049669</td>\n",
       "      <td>1.484319</td>\n",
       "    </tr>\n",
       "  </tbody>\n",
       "</table>\n",
       "</div>"
      ],
      "text/plain": [
       "               antecedents              consequents  antecedent support  \\\n",
       "0  (Water Bottle - 30 oz.)   (Mountain Bottle Cage)            0.163172   \n",
       "1   (Mountain Bottle Cage)  (Water Bottle - 30 oz.)            0.071292   \n",
       "2       (Road Bottle Cage)  (Water Bottle - 30 oz.)            0.067099   \n",
       "3  (Water Bottle - 30 oz.)       (Road Bottle Cage)            0.163172   \n",
       "\n",
       "   consequent support   support  confidence      lift  leverage  conviction  \n",
       "0            0.071292  0.056043    0.343458  4.817595  0.044410    1.414544  \n",
       "1            0.163172  0.056043    0.786096  4.817595  0.044410    3.912171  \n",
       "2            0.163172  0.060618    0.903409  5.536547  0.049669    8.663632  \n",
       "3            0.067099  0.060618    0.371495  5.536547  0.049669    1.484319  "
      ]
     },
     "execution_count": 38,
     "metadata": {},
     "output_type": "execute_result"
    }
   ],
   "source": [
    "GR_rules"
   ]
  },
  {
   "cell_type": "code",
   "execution_count": 28,
   "id": "7c140131",
   "metadata": {},
   "outputs": [
    {
     "data": {
      "text/html": [
       "<div>\n",
       "<style scoped>\n",
       "    .dataframe tbody tr th:only-of-type {\n",
       "        vertical-align: middle;\n",
       "    }\n",
       "\n",
       "    .dataframe tbody tr th {\n",
       "        vertical-align: top;\n",
       "    }\n",
       "\n",
       "    .dataframe thead th {\n",
       "        text-align: right;\n",
       "    }\n",
       "</style>\n",
       "<table border=\"1\" class=\"dataframe\">\n",
       "  <thead>\n",
       "    <tr style=\"text-align: right;\">\n",
       "      <th></th>\n",
       "      <th>antecedents</th>\n",
       "      <th>consequents</th>\n",
       "      <th>antecedent support</th>\n",
       "      <th>consequent support</th>\n",
       "      <th>support</th>\n",
       "      <th>confidence</th>\n",
       "      <th>lift</th>\n",
       "      <th>leverage</th>\n",
       "      <th>conviction</th>\n",
       "    </tr>\n",
       "  </thead>\n",
       "  <tbody>\n",
       "    <tr>\n",
       "      <th>0</th>\n",
       "      <td>(Water Bottle - 30 oz.)</td>\n",
       "      <td>(Mountain Bottle Cage)</td>\n",
       "      <td>0.168675</td>\n",
       "      <td>0.089009</td>\n",
       "      <td>0.075731</td>\n",
       "      <td>0.448980</td>\n",
       "      <td>5.044199</td>\n",
       "      <td>0.060718</td>\n",
       "      <td>1.653280</td>\n",
       "    </tr>\n",
       "    <tr>\n",
       "      <th>1</th>\n",
       "      <td>(Mountain Bottle Cage)</td>\n",
       "      <td>(Water Bottle - 30 oz.)</td>\n",
       "      <td>0.089009</td>\n",
       "      <td>0.168675</td>\n",
       "      <td>0.075731</td>\n",
       "      <td>0.850829</td>\n",
       "      <td>5.044199</td>\n",
       "      <td>0.060718</td>\n",
       "      <td>5.572959</td>\n",
       "    </tr>\n",
       "  </tbody>\n",
       "</table>\n",
       "</div>"
      ],
      "text/plain": [
       "               antecedents              consequents  antecedent support  \\\n",
       "0  (Water Bottle - 30 oz.)   (Mountain Bottle Cage)            0.168675   \n",
       "1   (Mountain Bottle Cage)  (Water Bottle - 30 oz.)            0.089009   \n",
       "\n",
       "   consequent support   support  confidence      lift  leverage  conviction  \n",
       "0            0.089009  0.075731    0.448980  5.044199  0.060718    1.653280  \n",
       "1            0.168675  0.075731    0.850829  5.044199  0.060718    5.572959  "
      ]
     },
     "execution_count": 28,
     "metadata": {},
     "output_type": "execute_result"
    }
   ],
   "source": [
    "CA_rules"
   ]
  },
  {
   "cell_type": "code",
   "execution_count": null,
   "id": "80c0adf7",
   "metadata": {},
   "outputs": [],
   "source": []
  }
 ],
 "metadata": {
  "kernelspec": {
   "display_name": "Python (market_basket)",
   "language": "python",
   "name": "maket_basket"
  },
  "language_info": {
   "codemirror_mode": {
    "name": "ipython",
    "version": 3
   },
   "file_extension": ".py",
   "mimetype": "text/x-python",
   "name": "python",
   "nbconvert_exporter": "python",
   "pygments_lexer": "ipython3",
   "version": "3.8.13"
  }
 },
 "nbformat": 4,
 "nbformat_minor": 5
}
